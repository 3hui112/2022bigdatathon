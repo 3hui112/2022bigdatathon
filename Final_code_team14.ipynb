{
 "cells": [
  {
   "cell_type": "code",
   "execution_count": 2,
   "metadata": {},
   "outputs": [],
   "source": [
    "import pandas as pd\n",
    "import numpy as np\n",
    "import tensorflow as tf\n",
    "from tensorflow.keras.models import Sequential\n",
    "from tensorflow.keras import layers\n",
    "import matplotlib.pyplot as plt\n",
    "from tensorflow.keras.preprocessing.text import Tokenizer\n",
    "from sklearn.feature_extraction.text import TfidfVectorizer\n",
    "from tensorflow.keras.layers import TextVectorization\n",
    "from tensorflow.keras.preprocessing.sequence import pad_sequences\n",
    "from sklearn.preprocessing import LabelEncoder"
   ]
  },
  {
   "cell_type": "code",
   "execution_count": 3,
   "metadata": {},
   "outputs": [],
   "source": [
    "txt_size = 500\n",
    "epochs = 3\n",
    "mini_batch = 30"
   ]
  },
  {
   "cell_type": "code",
   "execution_count": 4,
   "metadata": {},
   "outputs": [
    {
     "name": "stdout",
     "output_type": "stream",
     "text": [
      "<class 'pandas.core.frame.DataFrame'>\n",
      "RangeIndex: 74357 entries, 0 to 74356\n",
      "Data columns (total 2 columns):\n",
      " #   Column  Non-Null Count  Dtype \n",
      "---  ------  --------------  ----- \n",
      " 0   MBTI    74357 non-null  object\n",
      " 1   words   74357 non-null  object\n",
      "dtypes: object(2)\n",
      "memory usage: 1.1+ MB\n"
     ]
    }
   ],
   "source": [
    "## 트레이닝 데이터셋이 저장된 파일을 읽고,\n",
    "## csv 파일의 첫째항부터 열이름 없이 데이터가 저장되어 있어서\n",
    "## 첫번째 데이터가 자꾸 column명으로 입력되길래 당황했다.\n",
    "## 새로운 행을 추가하는 방법도 생각해 봤는데 어려웠고...\n",
    "## 그래서 그냥 새로 만든 데이터프레임에 columns 명을 프로그램 안에서 지정해 주기로 했다.\n",
    "\n",
    "df_train = pd.read_csv(\"MBTI_train.csv\", names=[\"MBTI\", \"words\"])\n",
    "df_train.info()"
   ]
  },
  {
   "cell_type": "code",
   "execution_count": 5,
   "metadata": {},
   "outputs": [
    {
     "data": {
      "text/html": [
       "<div>\n",
       "<style scoped>\n",
       "    .dataframe tbody tr th:only-of-type {\n",
       "        vertical-align: middle;\n",
       "    }\n",
       "\n",
       "    .dataframe tbody tr th {\n",
       "        vertical-align: top;\n",
       "    }\n",
       "\n",
       "    .dataframe thead th {\n",
       "        text-align: right;\n",
       "    }\n",
       "</style>\n",
       "<table border=\"1\" class=\"dataframe\">\n",
       "  <thead>\n",
       "    <tr style=\"text-align: right;\">\n",
       "      <th></th>\n",
       "      <th>MBTI</th>\n",
       "      <th>words</th>\n",
       "    </tr>\n",
       "  </thead>\n",
       "  <tbody>\n",
       "    <tr>\n",
       "      <th>0</th>\n",
       "      <td>INTP</td>\n",
       "      <td>say process model list like subscriber channel...</td>\n",
       "    </tr>\n",
       "    <tr>\n",
       "      <th>1</th>\n",
       "      <td>INFJ</td>\n",
       "      <td>upon much manipulate retail finish like sacrif...</td>\n",
       "    </tr>\n",
       "    <tr>\n",
       "      <th>2</th>\n",
       "      <td>INFJ</td>\n",
       "      <td>fit yes certain bff social feel goal go know n...</td>\n",
       "    </tr>\n",
       "    <tr>\n",
       "      <th>3</th>\n",
       "      <td>INTJ</td>\n",
       "      <td>complete love within someone ideal joke solvea...</td>\n",
       "    </tr>\n",
       "    <tr>\n",
       "      <th>4</th>\n",
       "      <td>ENTJ</td>\n",
       "      <td>public strictly thing person x question person...</td>\n",
       "    </tr>\n",
       "  </tbody>\n",
       "</table>\n",
       "</div>"
      ],
      "text/plain": [
       "   MBTI                                              words\n",
       "0  INTP  say process model list like subscriber channel...\n",
       "1  INFJ  upon much manipulate retail finish like sacrif...\n",
       "2  INFJ  fit yes certain bff social feel goal go know n...\n",
       "3  INTJ  complete love within someone ideal joke solvea...\n",
       "4  ENTJ  public strictly thing person x question person..."
      ]
     },
     "execution_count": 5,
     "metadata": {},
     "output_type": "execute_result"
    }
   ],
   "source": [
    "df_train.head(5)"
   ]
  },
  {
   "cell_type": "code",
   "execution_count": 6,
   "metadata": {},
   "outputs": [],
   "source": [
    "df_val_test = df_train.drop(df_train.index).copy()\n",
    "df_val = df_val_test.sample(frac=0.5, random_state=5).copy()"
   ]
  },
  {
   "cell_type": "code",
   "execution_count": 7,
   "metadata": {},
   "outputs": [],
   "source": [
    "## words를 학습데이터로 삼으면서\n",
    "## 각각의 words에 해당 MBTI 라벨을 붙였다.\n",
    "## 트레이닝용, 검증용 따로 정의함.\n",
    "\n",
    "labels_train = df_train['MBTI'].values\n",
    "data_train = df_train['words'].values\n",
    "\n",
    "labels_val = df_val['MBTI'].values\n",
    "data_val = df_val['words'].values\n",
    "\n",
    "le = LabelEncoder()\n",
    "en_labels_train = le.fit_transform(labels_train)\n",
    "en_labels_val = le.transform(labels_val)"
   ]
  },
  {
   "cell_type": "code",
   "execution_count": 18,
   "metadata": {},
   "outputs": [
    {
     "data": {
      "text/plain": [
       "Text(0.5, 1.0, 'MBTI COUNT')"
      ]
     },
     "execution_count": 18,
     "metadata": {},
     "output_type": "execute_result"
    },
    {
     "data": {
      "image/png": "[encoded data removed]",
      "text/plain": [
       "<Figure size 720x360 with 1 Axes>"
      ]
     },
     "metadata": {
      "needs_background": "light"
     },
     "output_type": "display_data"
    }
   ],
   "source": [
    "## 트레이닝 데이터셋 파일에 있던\n",
    "## 각각의 MBTI 종류별로 존재하는 데이터량을\n",
    "## 그래프로 시각화함\n",
    "## 나중에 보니까 진짜 INTP INTJ가 대부분이더라...\n",
    "\n",
    "unique_labels, count = np.unique(df_train['MBTI'], return_counts=True)\n",
    "fig = plt.figure(figsize=(10,5))\n",
    "plt.bar(unique_labels, count, color=\"YELLOW\", width=1)\n",
    "plt.title(\"MBTI COUNT\")"
   ]
  },
  {
   "cell_type": "code",
   "execution_count": 9,
   "metadata": {},
   "outputs": [],
   "source": [
    "## 단어들 토큰화 진행\n",
    "\n",
    "tokenizer = Tokenizer(num_words=10000, oov_token='<UNK>')\n",
    "tokenizer.fit_on_texts(data_train)"
   ]
  },
  {
   "cell_type": "code",
   "execution_count": 10,
   "metadata": {},
   "outputs": [],
   "source": [
    "## 데이터 패딩하는 함수 정의\n",
    "\n",
    "def pad_data(tokenizer, data2pad, maxlen):\n",
    "    sequence = tokenizer.texts_to_sequences(data2pad)\n",
    "    paded = pad_sequences(sequence, truncating='post', padding='post', maxlen=maxlen)\n",
    "    return paded"
   ]
  },
  {
   "cell_type": "code",
   "execution_count": 11,
   "metadata": {},
   "outputs": [
    {
     "ename": "KeyboardInterrupt",
     "evalue": "",
     "output_type": "error",
     "traceback": [
      "\u001b[1;31m---------------------------------------------------------------------------\u001b[0m",
      "\u001b[1;31mKeyboardInterrupt\u001b[0m                         Traceback (most recent call last)",
      "\u001b[1;32m~\\AppData\\Local\\Temp/ipykernel_20364/443335328.py\u001b[0m in \u001b[0;36m<module>\u001b[1;34m\u001b[0m\n\u001b[0;32m      1\u001b[0m \u001b[1;31m## 훈련 데이터, 검증 데이터 각각 패딩\u001b[0m\u001b[1;33m\u001b[0m\u001b[1;33m\u001b[0m\u001b[1;33m\u001b[0m\u001b[0m\n\u001b[0;32m      2\u001b[0m \u001b[1;33m\u001b[0m\u001b[0m\n\u001b[1;32m----> 3\u001b[1;33m \u001b[0mpaded_data_train\u001b[0m \u001b[1;33m=\u001b[0m \u001b[0mpad_data\u001b[0m\u001b[1;33m(\u001b[0m\u001b[0mtokenizer\u001b[0m\u001b[1;33m,\u001b[0m \u001b[0mdata_train\u001b[0m\u001b[1;33m,\u001b[0m \u001b[0mtxt_size\u001b[0m\u001b[1;33m)\u001b[0m\u001b[1;33m\u001b[0m\u001b[1;33m\u001b[0m\u001b[0m\n\u001b[0m\u001b[0;32m      4\u001b[0m \u001b[0mpaded_data_val\u001b[0m \u001b[1;33m=\u001b[0m \u001b[0mpad_data\u001b[0m\u001b[1;33m(\u001b[0m\u001b[0mtokenizer\u001b[0m\u001b[1;33m,\u001b[0m \u001b[0mdata_val\u001b[0m\u001b[1;33m,\u001b[0m \u001b[0mtxt_size\u001b[0m\u001b[1;33m)\u001b[0m\u001b[1;33m\u001b[0m\u001b[1;33m\u001b[0m\u001b[0m\n",
      "\u001b[1;32m~\\AppData\\Local\\Temp/ipykernel_20364/3048637674.py\u001b[0m in \u001b[0;36mpad_data\u001b[1;34m(tokenizer, data2pad, maxlen)\u001b[0m\n\u001b[0;32m      2\u001b[0m \u001b[1;33m\u001b[0m\u001b[0m\n\u001b[0;32m      3\u001b[0m \u001b[1;32mdef\u001b[0m \u001b[0mpad_data\u001b[0m\u001b[1;33m(\u001b[0m\u001b[0mtokenizer\u001b[0m\u001b[1;33m,\u001b[0m \u001b[0mdata2pad\u001b[0m\u001b[1;33m,\u001b[0m \u001b[0mmaxlen\u001b[0m\u001b[1;33m)\u001b[0m\u001b[1;33m:\u001b[0m\u001b[1;33m\u001b[0m\u001b[1;33m\u001b[0m\u001b[0m\n\u001b[1;32m----> 4\u001b[1;33m     \u001b[0msequence\u001b[0m \u001b[1;33m=\u001b[0m \u001b[0mtokenizer\u001b[0m\u001b[1;33m.\u001b[0m\u001b[0mtexts_to_sequences\u001b[0m\u001b[1;33m(\u001b[0m\u001b[0mdata2pad\u001b[0m\u001b[1;33m)\u001b[0m\u001b[1;33m\u001b[0m\u001b[1;33m\u001b[0m\u001b[0m\n\u001b[0m\u001b[0;32m      5\u001b[0m     \u001b[0mpaded\u001b[0m \u001b[1;33m=\u001b[0m \u001b[0mpad_sequences\u001b[0m\u001b[1;33m(\u001b[0m\u001b[0msequence\u001b[0m\u001b[1;33m,\u001b[0m \u001b[0mtruncating\u001b[0m\u001b[1;33m=\u001b[0m\u001b[1;34m'post'\u001b[0m\u001b[1;33m,\u001b[0m \u001b[0mpadding\u001b[0m\u001b[1;33m=\u001b[0m\u001b[1;34m'post'\u001b[0m\u001b[1;33m,\u001b[0m \u001b[0mmaxlen\u001b[0m\u001b[1;33m=\u001b[0m\u001b[0mmaxlen\u001b[0m\u001b[1;33m)\u001b[0m\u001b[1;33m\u001b[0m\u001b[1;33m\u001b[0m\u001b[0m\n\u001b[0;32m      6\u001b[0m     \u001b[1;32mreturn\u001b[0m \u001b[0mpaded\u001b[0m\u001b[1;33m\u001b[0m\u001b[1;33m\u001b[0m\u001b[0m\n",
      "\u001b[1;32m~\\AppData\\Roaming\\Python\\Python38\\site-packages\\keras_preprocessing\\text.py\u001b[0m in \u001b[0;36mtexts_to_sequences\u001b[1;34m(self, texts)\u001b[0m\n\u001b[0;32m    279\u001b[0m             \u001b[0mA\u001b[0m \u001b[0mlist\u001b[0m \u001b[0mof\u001b[0m \u001b[0msequences\u001b[0m\u001b[1;33m.\u001b[0m\u001b[1;33m\u001b[0m\u001b[1;33m\u001b[0m\u001b[0m\n\u001b[0;32m    280\u001b[0m         \"\"\"\n\u001b[1;32m--> 281\u001b[1;33m         \u001b[1;32mreturn\u001b[0m \u001b[0mlist\u001b[0m\u001b[1;33m(\u001b[0m\u001b[0mself\u001b[0m\u001b[1;33m.\u001b[0m\u001b[0mtexts_to_sequences_generator\u001b[0m\u001b[1;33m(\u001b[0m\u001b[0mtexts\u001b[0m\u001b[1;33m)\u001b[0m\u001b[1;33m)\u001b[0m\u001b[1;33m\u001b[0m\u001b[1;33m\u001b[0m\u001b[0m\n\u001b[0m\u001b[0;32m    282\u001b[0m \u001b[1;33m\u001b[0m\u001b[0m\n\u001b[0;32m    283\u001b[0m     \u001b[1;32mdef\u001b[0m \u001b[0mtexts_to_sequences_generator\u001b[0m\u001b[1;33m(\u001b[0m\u001b[0mself\u001b[0m\u001b[1;33m,\u001b[0m \u001b[0mtexts\u001b[0m\u001b[1;33m)\u001b[0m\u001b[1;33m:\u001b[0m\u001b[1;33m\u001b[0m\u001b[1;33m\u001b[0m\u001b[0m\n",
      "\u001b[1;32m~\\AppData\\Roaming\\Python\\Python38\\site-packages\\keras_preprocessing\\text.py\u001b[0m in \u001b[0;36mtexts_to_sequences_generator\u001b[1;34m(self, texts)\u001b[0m\n\u001b[0;32m    307\u001b[0m                 \u001b[0mseq\u001b[0m \u001b[1;33m=\u001b[0m \u001b[0mtext\u001b[0m\u001b[1;33m\u001b[0m\u001b[1;33m\u001b[0m\u001b[0m\n\u001b[0;32m    308\u001b[0m             \u001b[1;32melse\u001b[0m\u001b[1;33m:\u001b[0m\u001b[1;33m\u001b[0m\u001b[1;33m\u001b[0m\u001b[0m\n\u001b[1;32m--> 309\u001b[1;33m                 seq = text_to_word_sequence(text,\n\u001b[0m\u001b[0;32m    310\u001b[0m                                             \u001b[0mself\u001b[0m\u001b[1;33m.\u001b[0m\u001b[0mfilters\u001b[0m\u001b[1;33m,\u001b[0m\u001b[1;33m\u001b[0m\u001b[1;33m\u001b[0m\u001b[0m\n\u001b[0;32m    311\u001b[0m                                             \u001b[0mself\u001b[0m\u001b[1;33m.\u001b[0m\u001b[0mlower\u001b[0m\u001b[1;33m,\u001b[0m\u001b[1;33m\u001b[0m\u001b[1;33m\u001b[0m\u001b[0m\n",
      "\u001b[1;32m~\\AppData\\Roaming\\Python\\Python38\\site-packages\\keras_preprocessing\\text.py\u001b[0m in \u001b[0;36mtext_to_word_sequence\u001b[1;34m(text, filters, lower, split)\u001b[0m\n\u001b[0;32m     58\u001b[0m         \u001b[0mtranslate_dict\u001b[0m \u001b[1;33m=\u001b[0m \u001b[1;33m{\u001b[0m\u001b[0mc\u001b[0m\u001b[1;33m:\u001b[0m \u001b[0msplit\u001b[0m \u001b[1;32mfor\u001b[0m \u001b[0mc\u001b[0m \u001b[1;32min\u001b[0m \u001b[0mfilters\u001b[0m\u001b[1;33m}\u001b[0m\u001b[1;33m\u001b[0m\u001b[1;33m\u001b[0m\u001b[0m\n\u001b[0;32m     59\u001b[0m         \u001b[0mtranslate_map\u001b[0m \u001b[1;33m=\u001b[0m \u001b[0mmaketrans\u001b[0m\u001b[1;33m(\u001b[0m\u001b[0mtranslate_dict\u001b[0m\u001b[1;33m)\u001b[0m\u001b[1;33m\u001b[0m\u001b[1;33m\u001b[0m\u001b[0m\n\u001b[1;32m---> 60\u001b[1;33m         \u001b[0mtext\u001b[0m \u001b[1;33m=\u001b[0m \u001b[0mtext\u001b[0m\u001b[1;33m.\u001b[0m\u001b[0mtranslate\u001b[0m\u001b[1;33m(\u001b[0m\u001b[0mtranslate_map\u001b[0m\u001b[1;33m)\u001b[0m\u001b[1;33m\u001b[0m\u001b[1;33m\u001b[0m\u001b[0m\n\u001b[0m\u001b[0;32m     61\u001b[0m \u001b[1;33m\u001b[0m\u001b[0m\n\u001b[0;32m     62\u001b[0m     \u001b[0mseq\u001b[0m \u001b[1;33m=\u001b[0m \u001b[0mtext\u001b[0m\u001b[1;33m.\u001b[0m\u001b[0msplit\u001b[0m\u001b[1;33m(\u001b[0m\u001b[0msplit\u001b[0m\u001b[1;33m)\u001b[0m\u001b[1;33m\u001b[0m\u001b[1;33m\u001b[0m\u001b[0m\n",
      "\u001b[1;31mKeyboardInterrupt\u001b[0m: "
     ]
    }
   ],
   "source": [
    "## 훈련 데이터, 검증 데이터 각각 패딩\n",
    "\n",
    "paded_data_train = pad_data(tokenizer, data_train, txt_size)\n",
    "paded_data_val = pad_data(tokenizer, data_val, txt_size)"
   ]
  },
  {
   "cell_type": "code",
   "execution_count": null,
   "metadata": {},
   "outputs": [
    {
     "data": {
      "text/plain": [
       "(74357, 500)"
      ]
     },
     "execution_count": 11,
     "metadata": {},
     "output_type": "execute_result"
    }
   ],
   "source": [
    "paded_data_train.shape"
   ]
  },
  {
   "cell_type": "code",
   "execution_count": null,
   "metadata": {},
   "outputs": [],
   "source": [
    "# 데이터 vectorize\n",
    "\n",
    "def vectorize_text(text, label): \n",
    "    text = tf.expand_dims(text, -1) \n",
    "    return vectorize_layer(text), label \n",
    "\n",
    "max_features = 10000\n",
    "sequence_length = 500\n",
    "\n",
    "vectorize_layer = TextVectorization(\n",
    "    max_tokens=max_features, \n",
    "    output_mode=\"int\", \n",
    "    output_sequence_length=sequence_length,\n",
    ")\n",
    "vectorize_layer.adapt(data_train)\n",
    "vect_train = vectorize_layer(data_train)\n",
    "vect_val = vectorize_layer(data_val)"
   ]
  },
  {
   "cell_type": "code",
   "execution_count": null,
   "metadata": {},
   "outputs": [],
   "source": [
    "## 모델 생성하는 함수 정의\n",
    "\n",
    "def create_model(post_size, num_labels):\n",
    "    inputs = tf.keras.Input(shape=(None,), dtype=\"int64\")\n",
    "    \n",
    "    x = layers.Embedding(10000, 128)(inputs)\n",
    "    x = layers.Dropout(0.5)(x)\n",
    "    x = layers.Conv1D(128, 7, padding=\"valid\", activation=\"relu\", strides=3)(x)\n",
    "    x = layers.Conv1D(128, 7, padding=\"valid\", activation=\"relu\", strides=3)(x)\n",
    "    x = layers.GlobalMaxPooling1D()(x)\n",
    "    x = layers.Dense(128, activation=\"relu\")(x)\n",
    "    x = layers.Dropout(0.5)(x)\n",
    "    predictions = layers.Dense(num_labels, activation=\"sigmoid\", name=\"predictions\")(x)\n",
    "    model = tf.keras.Model(inputs, predictions)\n",
    "    return model\n",
    "\n",
    "def show_history(h):\n",
    "    epochs_trained = len(h.history['loss'])\n",
    "    plt.figure(figsize=(16, 6))\n",
    "    \n",
    "    plt.subplot(1, 2, 1)\n",
    "    plt.plot(range(0, epochs_trained), h.history.get('accuracy'), label='Training')\n",
    "    plt.plot(range(0, epochs_trained), h.history.get('val_accuracy'), label='Validation')\n",
    "    plt.ylim([0., 1.])\n",
    "    plt.xlabel('Epochs')\n",
    "    plt.ylabel('Accuracy')\n",
    "    plt.legend()\n",
    "    \n",
    "    plt.subplot(1, 2, 2)\n",
    "    plt.plot(range(0, epochs_trained), h.history.get('loss'), label='Training')\n",
    "    plt.plot(range(0, epochs_trained), h.history.get('val_loss'), label='Validation')\n",
    "    plt.xlabel('Epochs')\n",
    "    plt.ylabel('Loss')\n",
    "    plt.legend()\n",
    "    plt.show()"
   ]
  },
  {
   "cell_type": "code",
   "execution_count": null,
   "metadata": {},
   "outputs": [
    {
     "name": "stdout",
     "output_type": "stream",
     "text": [
      "Model: \"model\"\n",
      "_________________________________________________________________\n",
      " Layer (type)                Output Shape              Param #   \n",
      "=================================================================\n",
      " input_1 (InputLayer)        [(None, None)]            0         \n",
      "                                                                 \n",
      " embedding (Embedding)       (None, None, 128)         1280000   \n",
      "                                                                 \n",
      " dropout (Dropout)           (None, None, 128)         0         \n",
      "                                                                 \n",
      " conv1d (Conv1D)             (None, None, 128)         114816    \n",
      "                                                                 \n",
      " conv1d_1 (Conv1D)           (None, None, 128)         114816    \n",
      "                                                                 \n",
      " global_max_pooling1d (Globa  (None, 128)              0         \n",
      " lMaxPooling1D)                                                  \n",
      "                                                                 \n",
      " dense (Dense)               (None, 128)               16512     \n",
      "                                                                 \n",
      " dropout_1 (Dropout)         (None, 128)               0         \n",
      "                                                                 \n",
      " predictions (Dense)         (None, 16)                2064      \n",
      "                                                                 \n",
      "=================================================================\n",
      "Total params: 1,528,208\n",
      "Trainable params: 1,528,208\n",
      "Non-trainable params: 0\n",
      "_________________________________________________________________\n"
     ]
    }
   ],
   "source": [
    "model_token = create_model(txt_size, len(unique_labels))\n",
    "model_token.compile(loss='sparse_categorical_crossentropy', optimizer='adam', metrics=['accuracy'])\n",
    "model_token.summary()"
   ]
  },
  {
   "cell_type": "code",
   "execution_count": null,
   "metadata": {},
   "outputs": [
    {
     "name": "stdout",
     "output_type": "stream",
     "text": [
      "Epoch 1/2\n",
      "2324/2324 [==============================] - ETA: 0s - loss: 1.6179 - accuracy: 0.4867WARNING:tensorflow:Early stopping conditioned on metric `val_accuracy` which is not available. Available metrics are: loss,accuracy\n",
      "2324/2324 [==============================] - 440s 188ms/step - loss: 1.6179 - accuracy: 0.4867\n",
      "Epoch 2/2\n",
      "2324/2324 [==============================] - ETA: 0s - loss: 1.1303 - accuracy: 0.6628WARNING:tensorflow:Early stopping conditioned on metric `val_accuracy` which is not available. Available metrics are: loss,accuracy\n",
      "2324/2324 [==============================] - 368s 158ms/step - loss: 1.1303 - accuracy: 0.6628\n"
     ]
    }
   ],
   "source": [
    "## 모델 훈련시키기\n",
    "\n",
    "history_token = model_token.fit(\n",
    "    paded_data_train, en_labels_train,\n",
    "    validation_data = (paded_data_val, en_labels_val),\n",
    "    epochs = epochs,\n",
    "    batch_size = mini_batch,\n",
    "    callbacks=[\n",
    "               tf.keras.callbacks.EarlyStopping(monitor='val_accuracy', patience=4)\n",
    "    ]\n",
    ")"
   ]
  },
  {
   "cell_type": "code",
   "execution_count": null,
   "metadata": {},
   "outputs": [
    {
     "name": "stdout",
     "output_type": "stream",
     "text": [
      "<class 'pandas.core.frame.DataFrame'>\n",
      "RangeIndex: 9337 entries, 0 to 9336\n",
      "Data columns (total 2 columns):\n",
      " #   Column  Non-Null Count  Dtype \n",
      "---  ------  --------------  ----- \n",
      " 0   MBTI    0 non-null      object\n",
      " 1   words   9337 non-null   object\n",
      "dtypes: object(2)\n",
      "memory usage: 146.0+ KB\n"
     ]
    }
   ],
   "source": [
    "## 이제 테스트할 차례\n",
    "## 테스트 데이터셋 저장된 파일 불러오기\n",
    "\n",
    "text_batch = data_val\n",
    "label_batch = data_val\n",
    "\n",
    "df_test = pd.read_csv(\"MBTI_test.csv\", names=[\"words\"])\n",
    "df_test['MBTI'] = np.nan\n",
    "df_test = df_test[['MBTI', 'words']]\n",
    "df_test = df_test.astype({'MBTI':'object'})\n",
    "df_test.info()\n",
    "\n",
    "labels_test = df_test['MBTI'].values\n",
    "data_test = df_test['words'].values\n",
    "paded_data_test = pad_data(tokenizer, data_test, txt_size)\n",
    "vect_test = vectorize_layer(data_test)"
   ]
  },
  {
   "cell_type": "code",
   "execution_count": null,
   "metadata": {},
   "outputs": [],
   "source": [
    "## 예측 모델 생성\n",
    "\n",
    "inference = model_token.predict_on_batch(vect_test)"
   ]
  },
  {
   "cell_type": "code",
   "execution_count": null,
   "metadata": {},
   "outputs": [
    {
     "data": {
      "text/html": [
       "<div>\n",
       "<style scoped>\n",
       "    .dataframe tbody tr th:only-of-type {\n",
       "        vertical-align: middle;\n",
       "    }\n",
       "\n",
       "    .dataframe tbody tr th {\n",
       "        vertical-align: top;\n",
       "    }\n",
       "\n",
       "    .dataframe thead th {\n",
       "        text-align: right;\n",
       "    }\n",
       "</style>\n",
       "<table border=\"1\" class=\"dataframe\">\n",
       "  <thead>\n",
       "    <tr style=\"text-align: right;\">\n",
       "      <th></th>\n",
       "      <th>ENFJ</th>\n",
       "      <th>ENFP</th>\n",
       "      <th>ENTJ</th>\n",
       "      <th>ENTP</th>\n",
       "      <th>ESFJ</th>\n",
       "      <th>ESFP</th>\n",
       "      <th>ESTJ</th>\n",
       "      <th>ESTP</th>\n",
       "      <th>INFJ</th>\n",
       "      <th>INFP</th>\n",
       "      <th>INTJ</th>\n",
       "      <th>INTP</th>\n",
       "      <th>ISFJ</th>\n",
       "      <th>ISFP</th>\n",
       "      <th>ISTJ</th>\n",
       "      <th>ISTP</th>\n",
       "    </tr>\n",
       "  </thead>\n",
       "  <tbody>\n",
       "    <tr>\n",
       "      <th>0</th>\n",
       "      <td>0.518537</td>\n",
       "      <td>0.989429</td>\n",
       "      <td>0.072004</td>\n",
       "      <td>0.066087</td>\n",
       "      <td>0.006665</td>\n",
       "      <td>0.025757</td>\n",
       "      <td>1.952052e-04</td>\n",
       "      <td>0.000047</td>\n",
       "      <td>0.697332</td>\n",
       "      <td>0.780481</td>\n",
       "      <td>0.119343</td>\n",
       "      <td>0.013228</td>\n",
       "      <td>0.058952</td>\n",
       "      <td>0.150026</td>\n",
       "      <td>0.098208</td>\n",
       "      <td>0.005113</td>\n",
       "    </tr>\n",
       "    <tr>\n",
       "      <th>1</th>\n",
       "      <td>0.153921</td>\n",
       "      <td>0.094294</td>\n",
       "      <td>0.287124</td>\n",
       "      <td>0.995333</td>\n",
       "      <td>0.000529</td>\n",
       "      <td>0.004937</td>\n",
       "      <td>1.101356e-04</td>\n",
       "      <td>0.029807</td>\n",
       "      <td>0.781314</td>\n",
       "      <td>0.278508</td>\n",
       "      <td>0.384041</td>\n",
       "      <td>0.600946</td>\n",
       "      <td>0.030973</td>\n",
       "      <td>0.026916</td>\n",
       "      <td>0.035131</td>\n",
       "      <td>0.070328</td>\n",
       "    </tr>\n",
       "    <tr>\n",
       "      <th>2</th>\n",
       "      <td>0.028955</td>\n",
       "      <td>0.952374</td>\n",
       "      <td>0.745793</td>\n",
       "      <td>0.395842</td>\n",
       "      <td>0.000196</td>\n",
       "      <td>0.001102</td>\n",
       "      <td>5.260671e-07</td>\n",
       "      <td>0.000202</td>\n",
       "      <td>0.315601</td>\n",
       "      <td>0.233377</td>\n",
       "      <td>0.997885</td>\n",
       "      <td>0.508927</td>\n",
       "      <td>0.000259</td>\n",
       "      <td>0.001736</td>\n",
       "      <td>0.152442</td>\n",
       "      <td>0.027656</td>\n",
       "    </tr>\n",
       "    <tr>\n",
       "      <th>3</th>\n",
       "      <td>0.007937</td>\n",
       "      <td>0.543518</td>\n",
       "      <td>0.875947</td>\n",
       "      <td>0.658192</td>\n",
       "      <td>0.000013</td>\n",
       "      <td>0.000069</td>\n",
       "      <td>1.299200e-08</td>\n",
       "      <td>0.000313</td>\n",
       "      <td>0.363087</td>\n",
       "      <td>0.161309</td>\n",
       "      <td>0.999893</td>\n",
       "      <td>0.970863</td>\n",
       "      <td>0.000051</td>\n",
       "      <td>0.000093</td>\n",
       "      <td>0.262920</td>\n",
       "      <td>0.078813</td>\n",
       "    </tr>\n",
       "    <tr>\n",
       "      <th>4</th>\n",
       "      <td>0.090935</td>\n",
       "      <td>0.058578</td>\n",
       "      <td>0.739373</td>\n",
       "      <td>0.600214</td>\n",
       "      <td>0.001548</td>\n",
       "      <td>0.000593</td>\n",
       "      <td>4.480776e-05</td>\n",
       "      <td>0.009818</td>\n",
       "      <td>0.129361</td>\n",
       "      <td>0.391241</td>\n",
       "      <td>0.996780</td>\n",
       "      <td>0.999143</td>\n",
       "      <td>0.000492</td>\n",
       "      <td>0.004174</td>\n",
       "      <td>0.163630</td>\n",
       "      <td>0.702166</td>\n",
       "    </tr>\n",
       "  </tbody>\n",
       "</table>\n",
       "</div>"
      ],
      "text/plain": [
       "       ENFJ      ENFP      ENTJ      ENTP      ESFJ      ESFP          ESTJ  \\\n",
       "0  0.518537  0.989429  0.072004  0.066087  0.006665  0.025757  1.952052e-04   \n",
       "1  0.153921  0.094294  0.287124  0.995333  0.000529  0.004937  1.101356e-04   \n",
       "2  0.028955  0.952374  0.745793  0.395842  0.000196  0.001102  5.260671e-07   \n",
       "3  0.007937  0.543518  0.875947  0.658192  0.000013  0.000069  1.299200e-08   \n",
       "4  0.090935  0.058578  0.739373  0.600214  0.001548  0.000593  4.480776e-05   \n",
       "\n",
       "       ESTP      INFJ      INFP      INTJ      INTP      ISFJ      ISFP  \\\n",
       "0  0.000047  0.697332  0.780481  0.119343  0.013228  0.058952  0.150026   \n",
       "1  0.029807  0.781314  0.278508  0.384041  0.600946  0.030973  0.026916   \n",
       "2  0.000202  0.315601  0.233377  0.997885  0.508927  0.000259  0.001736   \n",
       "3  0.000313  0.363087  0.161309  0.999893  0.970863  0.000051  0.000093   \n",
       "4  0.009818  0.129361  0.391241  0.996780  0.999143  0.000492  0.004174   \n",
       "\n",
       "       ISTJ      ISTP  \n",
       "0  0.098208  0.005113  \n",
       "1  0.035131  0.070328  \n",
       "2  0.152442  0.027656  \n",
       "3  0.262920  0.078813  \n",
       "4  0.163630  0.702166  "
      ]
     },
     "execution_count": 43,
     "metadata": {},
     "output_type": "execute_result"
    }
   ],
   "source": [
    "## 예측한 값을 새로운 데이터프레임에 넣어주고\n",
    "## columns명을 각 MBTI로 설정\n",
    "\n",
    "resultDF = pd.DataFrame(inference)\n",
    "resultDF.columns = unique_labels\n",
    "resultDF.head()\n"
   ]
  },
  {
   "cell_type": "code",
   "execution_count": null,
   "metadata": {},
   "outputs": [
    {
     "data": {
      "text/plain": [
       "0    0.989429\n",
       "1    0.995333\n",
       "2    0.997885\n",
       "3    0.999893\n",
       "4    0.999143\n",
       "dtype: float32"
      ]
     },
     "execution_count": 72,
     "metadata": {},
     "output_type": "execute_result"
    }
   ],
   "source": [
    "result = resultDF.max(axis=1)\n",
    "\n",
    "result.head()"
   ]
  },
  {
   "cell_type": "code",
   "execution_count": null,
   "metadata": {},
   "outputs": [
    {
     "data": {
      "text/plain": [
       "0    ENFP\n",
       "1    ENTP\n",
       "2    INTJ\n",
       "3    INTJ\n",
       "4    INTP\n",
       "dtype: object"
      ]
     },
     "execution_count": 79,
     "metadata": {},
     "output_type": "execute_result"
    }
   ],
   "source": [
    "result = resultDF.idxmax(axis=1)\n",
    "result.head()"
   ]
  },
  {
   "cell_type": "code",
   "execution_count": null,
   "metadata": {},
   "outputs": [],
   "source": [
    "result = pd.DataFrame(result, columns=['MBTI'])\n",
    "result.to_csv(\"Final_result_team14.csv\", index=False, header=False)"
   ]
  }
 ],
 "metadata": {
  "interpreter": {
   "hash": "1baa965d5efe3ac65b79dfc60c0d706280b1da80fedb7760faf2759126c4f253"
  },
  "kernelspec": {
   "display_name": "Python 3.8.2 64-bit",
   "language": "python",
   "name": "python3"
  },
  "language_info": {
   "codemirror_mode": {
    "name": "ipython",
    "version": 3
   },
   "file_extension": ".py",
   "mimetype": "text/x-python",
   "name": "python",
   "nbconvert_exporter": "python",
   "pygments_lexer": "ipython3",
   "version": "3.8.2"
  },
  "orig_nbformat": 4
 },
 "nbformat": 4,
 "nbformat_minor": 2
}
