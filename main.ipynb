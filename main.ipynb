{
 "cells": [
  {
   "cell_type": "code",
   "execution_count": 23,
   "metadata": {},
   "outputs": [],
   "source": [
    "import pandas as pd\n",
    "import numpy as np\n",
    "import tensorflow as tf\n",
    "from tensorflow.keras.models import Sequential\n",
    "from tensorflow.keras import layers\n",
    "import matplotlib.pyplot as plt\n",
    "from tensorflow.keras.preprocessing.text import Tokenizer\n",
    "from sklearn.feature_extraction.text import TfidfVectorizer\n",
    "from tensorflow.keras.layers import TextVectorization\n",
    "from tensorflow.keras.preprocessing.sequence import pad_sequences\n",
    "from sklearn.preprocessing import LabelEncoder\n",
    "from IPython.display import display"
   ]
  },
  {
   "cell_type": "code",
   "execution_count": 24,
   "metadata": {},
   "outputs": [],
   "source": [
    "txt_size = 400\n",
    "epochs = 27\n",
    "mini_batch = 400"
   ]
  },
  {
   "cell_type": "code",
   "execution_count": 25,
   "metadata": {},
   "outputs": [
    {
     "name": "stdout",
     "output_type": "stream",
     "text": [
      "<class 'pandas.core.frame.DataFrame'>\n",
      "RangeIndex: 74356 entries, 0 to 74355\n",
      "Data columns (total 2 columns):\n",
      " #   Column                                                                                                                                                                                                                                                                                                                                                                                                                                                                                                                                                                                                                                                                                                                                                                                                                                                                                                                                                                                                                                                                                                                                                                                                                                                                                                                                                                                                                                                                                                                                                                                                                                                                                                                                                                                                                                                                                                                                                                                                                                                                                                                                                                                                                                                                                                                                                                                                                                                                                                                                                                                                                                                                                                                                   Non-Null Count  Dtype \n",
      "---  ------                                                                                                                                                                                                                                                                                                                                                                                                                                                                                                                                                                                                                                                                                                                                                                                                                                                                                                                                                                                                                                                                                                                                                                                                                                                                                                                                                                                                                                                                                                                                                                                                                                                                                                                                                                                                                                                                                                                                                                                                                                                                                                                                                                                                                                                                                                                                                                                                                                                                                                                                                                                                                                                                                                                                   --------------  ----- \n",
      " 0   INTP                                                                                                                                                                                                                                                                                                                                                                                                                                                                                                                                                                                                                                                                                                                                                                                                                                                                                                                                                                                                                                                                                                                                                                                                                                                                                                                                                                                                                                                                                                                                                                                                                                                                                                                                                                                                                                                                                                                                                                                                                                                                                                                                                                                                                                                                                                                                                                                                                                                                                                                                                                                                                                                                                                                                     74356 non-null  object\n",
      " 1   say process model list like subscriber channel region act position since without hear resus help study sense external specialize movement dude thousand yes even get essential part road involve expressiveness like factor never probably le non think dedicate medium task take brain oh architectural would diagnose technology college precisely fi understand dominant dom security run make hard tribe lot stop opinion bad washinon solely best extremely sound since patreon back differently mean differ cia high discrimination make two si holistic though passage would make director continue else task enigma question yet whatever field probably mean part arbitrary hedonism ask post find broaden matter read lot sql essential cuure start language think month demand intp plz like like without exam help get system something einstein though would stream create personal sort relative would k would language k man flat example without typically learn read still teach problem split function mean long mental arbitrary glean step sound norm u win question cuures mean genius lenh would work podcast chimpanzee like resist equality glad genius colleague lenh need memory go use u several need world road ask start make intelligence ba either factor end necessarily fail mean min desire try animal incitement think great mean big heah movement master sentence money take mean pretty life well wise intp immigrate channel space yep twice road young essay merge le get hundred pretty help know far add assignment demand people intestinal get opinion learn whatever much equip feel life region unordered raw current specie speed point write need oh extract mean business center important see even perceive desire confuse sry slant enough view know become improve level genuinely time work make also let stop way man care like personal opportunity ability survive ah insensitive help nowhere caption many environment basically analytical word jump good learn landscape process electronic guy moma le much get respond worldwide quality game intp nature example try deaf notice much repetitive matter possibility k something road get school npr round last make need monkey write say masturbation around avoid think figure society could key human describe environment genre test first brain two plateau information story content also intp feel think good brain get arbitrary education monkey fortitude cognition cohesive capable equally due comment report help overall channel grip lack chance video read podcast still towards average improve comment opposite heah distill also judgemental make develop partially intuition grade hear high sentence  74356 non-null  object\n",
      "dtypes: object(2)\n",
      "memory usage: 1.1+ MB\n"
     ]
    }
   ],
   "source": [
    "\n",
    "df = pd.read_csv(\"C:/Users/KSH/Desktop/2022bigdatathon/dataset/MBTI_train.csv\")\n",
    "df.info()\n",
    "\n",
    "#지금 column 내용이 intp, 단어 400개로 되어 있음\n",
    "#MBTI, words로 수정"
   ]
  },
  {
   "cell_type": "code",
   "execution_count": 26,
   "metadata": {},
   "outputs": [
    {
     "data": {
      "text/html": [
       "<div>\n",
       "<style scoped>\n",
       "    .dataframe tbody tr th:only-of-type {\n",
       "        vertical-align: middle;\n",
       "    }\n",
       "\n",
       "    .dataframe tbody tr th {\n",
       "        vertical-align: top;\n",
       "    }\n",
       "\n",
       "    .dataframe thead th {\n",
       "        text-align: right;\n",
       "    }\n",
       "</style>\n",
       "<table border=\"1\" class=\"dataframe\">\n",
       "  <thead>\n",
       "    <tr style=\"text-align: right;\">\n",
       "      <th></th>\n",
       "      <th>INTP</th>\n",
       "      <th>say process model list like subscriber channel region act position since without hear resus help study sense external specialize movement dude thousand yes even get essential part road involve expressiveness like factor never probably le non think dedicate medium task take brain oh architectural would diagnose technology college precisely fi understand dominant dom security run make hard tribe lot stop opinion bad washinon solely best extremely sound since patreon back differently mean differ cia high discrimination make two si holistic though passage would make director continue else task enigma question yet whatever field probably mean part arbitrary hedonism ask post find broaden matter read lot sql essential cuure start language think month demand intp plz like like without exam help get system something einstein though would stream create personal sort relative would k would language k man flat example without typically learn read still teach problem split function mean long mental arbitrary glean step sound norm u win question cuures mean genius lenh would work podcast chimpanzee like resist equality glad genius colleague lenh need memory go use u several need world road ask start make intelligence ba either factor end necessarily fail mean min desire try animal incitement think great mean big heah movement master sentence money take mean pretty life well wise intp immigrate channel space yep twice road young essay merge le get hundred pretty help know far add assignment demand people intestinal get opinion learn whatever much equip feel life region unordered raw current specie speed point write need oh extract mean business center important see even perceive desire confuse sry slant enough view know become improve level genuinely time work make also let stop way man care like personal opportunity ability survive ah insensitive help nowhere caption many environment basically analytical word jump good learn landscape process electronic guy moma le much get respond worldwide quality game intp nature example try deaf notice much repetitive matter possibility k something road get school npr round last make need monkey write say masturbation around avoid think figure society could key human describe environment genre test first brain two plateau information story content also intp feel think good brain get arbitrary education monkey fortitude cognition cohesive capable equally due comment report help overall channel grip lack chance video read podcast still towards average improve comment opposite heah distill also judgemental make develop partially intuition grade hear high sentence</th>\n",
       "    </tr>\n",
       "  </thead>\n",
       "  <tbody>\n",
       "    <tr>\n",
       "      <th>0</th>\n",
       "      <td>INFJ</td>\n",
       "      <td>upon much manipulate retail finish like sacrif...</td>\n",
       "    </tr>\n",
       "    <tr>\n",
       "      <th>1</th>\n",
       "      <td>INFJ</td>\n",
       "      <td>fit yes certain bff social feel goal go know n...</td>\n",
       "    </tr>\n",
       "    <tr>\n",
       "      <th>2</th>\n",
       "      <td>INTJ</td>\n",
       "      <td>complete love within someone ideal joke solvea...</td>\n",
       "    </tr>\n",
       "    <tr>\n",
       "      <th>3</th>\n",
       "      <td>ENTJ</td>\n",
       "      <td>public strictly thing person x question person...</td>\n",
       "    </tr>\n",
       "    <tr>\n",
       "      <th>4</th>\n",
       "      <td>INFJ</td>\n",
       "      <td>opinion mean dim nuclear one like upset decisi...</td>\n",
       "    </tr>\n",
       "  </tbody>\n",
       "</table>\n",
       "</div>"
      ],
      "text/plain": [
       "   INTP  \\\n",
       "0  INFJ   \n",
       "1  INFJ   \n",
       "2  INTJ   \n",
       "3  ENTJ   \n",
       "4  INFJ   \n",
       "\n",
       "  say process model list like subscriber channel region act position since without hear resus help study sense external specialize movement dude thousand yes even get essential part road involve expressiveness like factor never probably le non think dedicate medium task take brain oh architectural would diagnose technology college precisely fi understand dominant dom security run make hard tribe lot stop opinion bad washinon solely best extremely sound since patreon back differently mean differ cia high discrimination make two si holistic though passage would make director continue else task enigma question yet whatever field probably mean part arbitrary hedonism ask post find broaden matter read lot sql essential cuure start language think month demand intp plz like like without exam help get system something einstein though would stream create personal sort relative would k would language k man flat example without typically learn read still teach problem split function mean long mental arbitrary glean step sound norm u win question cuures mean genius lenh would work podcast chimpanzee like resist equality glad genius colleague lenh need memory go use u several need world road ask start make intelligence ba either factor end necessarily fail mean min desire try animal incitement think great mean big heah movement master sentence money take mean pretty life well wise intp immigrate channel space yep twice road young essay merge le get hundred pretty help know far add assignment demand people intestinal get opinion learn whatever much equip feel life region unordered raw current specie speed point write need oh extract mean business center important see even perceive desire confuse sry slant enough view know become improve level genuinely time work make also let stop way man care like personal opportunity ability survive ah insensitive help nowhere caption many environment basically analytical word jump good learn landscape process electronic guy moma le much get respond worldwide quality game intp nature example try deaf notice much repetitive matter possibility k something road get school npr round last make need monkey write say masturbation around avoid think figure society could key human describe environment genre test first brain two plateau information story content also intp feel think good brain get arbitrary education monkey fortitude cognition cohesive capable equally due comment report help overall channel grip lack chance video read podcast still towards average improve comment opposite heah distill also judgemental make develop partially intuition grade hear high sentence  \n",
       "0  upon much manipulate retail finish like sacrif...                                                                                                                                                                                                                                                                                                                                                                                                                                                                                                                                                                                                                                                                                                                                                                                                                                                                                                                                                                                                                                                                                                                                                                                                                                                                                                                                                                                                                                                                                                                                                                                                                                                                                                                                                                                                                                                                                                                                                                                                                                                                                                                                                                                                                                                                                                                                                                                                                                                                                                                                                                                                                                                                                       \n",
       "1  fit yes certain bff social feel goal go know n...                                                                                                                                                                                                                                                                                                                                                                                                                                                                                                                                                                                                                                                                                                                                                                                                                                                                                                                                                                                                                                                                                                                                                                                                                                                                                                                                                                                                                                                                                                                                                                                                                                                                                                                                                                                                                                                                                                                                                                                                                                                                                                                                                                                                                                                                                                                                                                                                                                                                                                                                                                                                                                                                                       \n",
       "2  complete love within someone ideal joke solvea...                                                                                                                                                                                                                                                                                                                                                                                                                                                                                                                                                                                                                                                                                                                                                                                                                                                                                                                                                                                                                                                                                                                                                                                                                                                                                                                                                                                                                                                                                                                                                                                                                                                                                                                                                                                                                                                                                                                                                                                                                                                                                                                                                                                                                                                                                                                                                                                                                                                                                                                                                                                                                                                                                       \n",
       "3  public strictly thing person x question person...                                                                                                                                                                                                                                                                                                                                                                                                                                                                                                                                                                                                                                                                                                                                                                                                                                                                                                                                                                                                                                                                                                                                                                                                                                                                                                                                                                                                                                                                                                                                                                                                                                                                                                                                                                                                                                                                                                                                                                                                                                                                                                                                                                                                                                                                                                                                                                                                                                                                                                                                                                                                                                                                                       \n",
       "4  opinion mean dim nuclear one like upset decisi...                                                                                                                                                                                                                                                                                                                                                                                                                                                                                                                                                                                                                                                                                                                                                                                                                                                                                                                                                                                                                                                                                                                                                                                                                                                                                                                                                                                                                                                                                                                                                                                                                                                                                                                                                                                                                                                                                                                                                                                                                                                                                                                                                                                                                                                                                                                                                                                                                                                                                                                                                                                                                                                                                       "
      ]
     },
     "execution_count": 26,
     "metadata": {},
     "output_type": "execute_result"
    }
   ],
   "source": [
    "df.head(5)"
   ]
  },
  {
   "cell_type": "code",
   "execution_count": null,
   "metadata": {},
   "outputs": [],
   "source": [
    "df.train()"
   ]
  }
 ],
 "metadata": {
  "interpreter": {
   "hash": "1baa965d5efe3ac65b79dfc60c0d706280b1da80fedb7760faf2759126c4f253"
  },
  "kernelspec": {
   "display_name": "Python 3.8.2 64-bit",
   "language": "python",
   "name": "python3"
  },
  "language_info": {
   "codemirror_mode": {
    "name": "ipython",
    "version": 3
   },
   "file_extension": ".py",
   "mimetype": "text/x-python",
   "name": "python",
   "nbconvert_exporter": "python",
   "pygments_lexer": "ipython3",
   "version": "3.8.2"
  },
  "orig_nbformat": 4
 },
 "nbformat": 4,
 "nbformat_minor": 2
}
